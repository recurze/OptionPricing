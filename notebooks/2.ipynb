{
 "cells": [
  {
   "cell_type": "markdown",
   "metadata": {
    "pycharm": {
     "name": "#%% md\n"
    }
   },
   "source": [
    "## QF5204: Assignment 2\n"
   ]
  },
  {
   "cell_type": "markdown",
   "metadata": {},
   "source": [
    "### 0. Prelim\n",
    "\n",
    "Option classes; BS pricer; BIN pricer"
   ]
  },
  {
   "cell_type": "code",
   "execution_count": 1,
   "metadata": {
    "jupyter": {
     "source_hidden": true
    }
   },
   "outputs": [],
   "source": [
    "from enum import Enum\n",
    "from typing import Optional\n",
    "\n",
    "\n",
    "PriceType = float\n",
    "\n",
    "\n",
    "class OptionType(Enum):\n",
    "    CALL = 1\n",
    "    PUT = 2\n",
    "\n",
    "\n",
    "class Option:\n",
    "    def __init__(self,\n",
    "                 option_type: OptionType,\n",
    "                 strike_price: PriceType):\n",
    "        self.option_type = option_type\n",
    "        self.strike_price = strike_price\n",
    "\n",
    "    def is_call(self) -> bool:\n",
    "        return self.option_type == OptionType.CALL\n",
    "\n",
    "    def is_put(self) -> bool:\n",
    "        return self.option_type == OptionType.PUT\n",
    "\n",
    "    def simple_payoff(self, spot_price: PriceType) -> PriceType:\n",
    "        if self.is_call():\n",
    "            return max(spot_price - self.strike_price, 0)\n",
    "        if self.is_put():\n",
    "            return max(self.strike_price - spot_price, 0)\n",
    "        raise NotImplementedError()\n",
    "\n",
    "    def payoff(self, spot_price: PriceType, time_to_maturity_in_years: float = 0) -> PriceType:\n",
    "        raise NotImplementedError()"
   ]
  },
  {
   "cell_type": "code",
   "execution_count": 2,
   "metadata": {
    "jupyter": {
     "source_hidden": true
    }
   },
   "outputs": [],
   "source": [
    "def is_close(x, y, tol=1e-6):\n",
    "    return abs(x - y) < tol\n",
    "\n",
    "\n",
    "class EuropeanOption(Option):\n",
    "    def payoff(self, spot_price: PriceType, time_to_maturity_in_years: float = 0) -> PriceType:\n",
    "        return 0 if not is_close(time_to_maturity_in_years, 0) else super().simple_payoff(spot_price)\n",
    "\n",
    "\n",
    "class EuropeanBinaryOption(EuropeanOption):\n",
    "    def __init__(self, **kwargs):\n",
    "        self.fixed_payoff = 100\n",
    "        super().__init__(**kwargs)\n",
    "\n",
    "    def payoff(self, spot_price: PriceType, time_to_maturity_in_years: float = 0) -> PriceType:\n",
    "        if not is_close(time_to_maturity_in_years, 0):\n",
    "            return 0\n",
    "        return self.fixed_payoff if super().simple_payoff(spot_price) > 0 else 0"
   ]
  },
  {
   "cell_type": "code",
   "execution_count": 3,
   "metadata": {},
   "outputs": [],
   "source": [
    "import math\n",
    "from scipy.stats import norm\n",
    "\n",
    "\n",
    "def bsPricer(spot_price,\n",
    "             option: EuropeanOption,\n",
    "             risk_free_rate: float,\n",
    "             dividend_yield: float,\n",
    "             volatility: float,\n",
    "             time_to_maturity_in_years: float) -> PriceType:\n",
    "    S = spot_price\n",
    "    K = option.strike_price\n",
    "    r = risk_free_rate\n",
    "    q = dividend_yield\n",
    "\n",
    "    sigma = volatility\n",
    "    tau = time_to_maturity_in_years\n",
    "\n",
    "    # Compute d +/-\n",
    "    sd = sigma * (tau ** 0.5)\n",
    "\n",
    "    d1 = (math.log(S / K) + (r - q) * tau)/sd + sd/2\n",
    "    d2 = d1 - sd\n",
    "\n",
    "    d1_cdf = norm.cdf(d1)\n",
    "    d2_cdf = norm.cdf(d2)\n",
    "\n",
    "    # Discount factor and dividends\n",
    "    D = math.exp(-r*tau)\n",
    "    Q = math.exp(-q*tau)\n",
    "\n",
    "    if isinstance(option, EuropeanBinaryOption):\n",
    "        # Cash or nothing\n",
    "        value = D*d2_cdf\n",
    "        if option.is_put():\n",
    "            # P = D - C\n",
    "            value = D - value\n",
    "        return value * option.fixed_payoff\n",
    "\n",
    "    value = S*Q*d1_cdf - K*D*d2_cdf\n",
    "    if option.is_put():\n",
    "        # P = C - SQ + KD\n",
    "        value = value - S*Q + K*D\n",
    "\n",
    "    return value"
   ]
  },
  {
   "cell_type": "code",
   "execution_count": 4,
   "metadata": {},
   "outputs": [],
   "source": [
    "from typing import Callable\n",
    "\n",
    "# Note: there are alternate calibrators like Jarrow-Rudd and Tian.\n",
    "def crr_calibrator(r: float, vol: float, t: float) -> tuple[float, float, float]:\n",
    "    b = math.exp((r + vol*vol) * t) + math.exp(-r*t)\n",
    "    u = (b + math.sqrt(b*b - 4)) / 2\n",
    "    p = (u*math.exp(r*t) - 1) / (u*u - 1) if u != 1 else 1/2\n",
    "    return (u, 1/u, p)\n",
    "\n",
    "\n",
    "def binomialPricer(spot_price: float,\n",
    "                   option: Option,\n",
    "                   risk_free_rate: float,\n",
    "                   dividend_yield: float,\n",
    "                   volatility: float,\n",
    "                   time_to_maturity_in_years: float,\n",
    "                   calibrator: Callable = crr_calibrator,\n",
    "                   num_steps: int = 50) -> PriceType:\n",
    "\n",
    "    r = risk_free_rate\n",
    "    t = time_to_maturity_in_years / num_steps\n",
    "\n",
    "    u, d, p = calibrator(r - dividend_yield, volatility, t)\n",
    "\n",
    "    S = spot_price\n",
    "    value = [option.payoff((u ** (num_steps - i)) * (d ** i) * S) for i in range(num_steps + 1)]\n",
    "\n",
    "    discount_factor = math.exp(-r*t)\n",
    "    for i in range(num_steps - 1, -1, -1):\n",
    "        for j in range(i + 1):\n",
    "            current_time_to_maturity = time_to_maturity_in_years - i*t\n",
    "\n",
    "            current_payoff = option.payoff((u ** (i - j)) * (d ** j) * S, current_time_to_maturity)\n",
    "            expected_payoff_upon_continuation = discount_factor * (p*value[j] + (1 - p)*value[j + 1])\n",
    "\n",
    "            # Note: for European options, current_payoff is 0\n",
    "            value[j] = max(current_payoff, expected_payoff_upon_continuation)\n",
    "\n",
    "    return value[0]"
   ]
  },
  {
   "cell_type": "markdown",
   "metadata": {
    "collapsed": false,
    "jupyter": {
     "outputs_hidden": false
    },
    "pycharm": {
     "name": "#%% md\n"
    }
   },
   "source": [
    "### 1. Trinomial Tree"
   ]
  },
  {
   "cell_type": "markdown",
   "metadata": {
    "collapsed": false,
    "jupyter": {
     "outputs_hidden": false
    },
    "pycharm": {
     "name": "#%% md\n"
    }
   },
   "source": [
    "Implement `trinomialPricerAnchor`. Instead of taking the parameter $\\lambda$ as in our example code, this function takes a discontinuity K and anchors a tree node to K by tuning $\\lambda$ inside the pricer.\n",
    "Note that there are many ways to adjust $\\lambda$.\n",
    "One example is to construct the tree with $\\lambda = \\sqrt{3}$ first, find the node closest to $K$, then adjust $\\lambda$ such that the node falls on $K$.\n",
    "But you are free to define your own way to achieve this."
   ]
  },
  {
   "cell_type": "markdown",
   "metadata": {},
   "source": [
    "`compute_lambda` is implemented as described above. The closest node if found directly through rounding assuming $\\lambda_0 = \\sqrt{3}$, instead of constructing a full tree."
   ]
  },
  {
   "cell_type": "code",
   "execution_count": 21,
   "metadata": {},
   "outputs": [],
   "source": [
    "def compute_lambda(K: float, S: float, sd: float, num_steps: int, lam0: float) -> float:\n",
    "    if K == S:\n",
    "        # Choose default\n",
    "        return lam0\n",
    "\n",
    "    # S * (u ** up_minus_down) = K\n",
    "    # up_minus_down * lam = 1/sd * log(K/S) = G\n",
    "    G = 1/sd * math.log(K / S)\n",
    "\n",
    "    # Use lam0 to compute up_minus_down rounded to nearest integer that is not 0\n",
    "    up_minus_down = G / lam0\n",
    "    rounded_up_minus_down = round(up_minus_down) if abs(up_minus_down) > 0.5 else (1 if up_minus_down > 0 else -1)\n",
    "\n",
    "    # Use rounded_up_minus_down to compute lam\n",
    "    return max(G / rounded_up_minus_down, 1)"
   ]
  },
  {
   "cell_type": "markdown",
   "metadata": {},
   "source": [
    "`calibrator` uses the computed $\\lambda$ to compute u, pu, pm and pd by matching the first and second moments."
   ]
  },
  {
   "cell_type": "markdown",
   "metadata": {},
   "source": [
    "`trinomialPricerAnchor` is written similar to the `binomialPricer`. `compute_lambda` and `calibrator` are used to compute parameters of the tree. The price at node i at step n is $Su^{n - i}$, and the number of nodes at step n is $2n + 1$."
   ]
  },
  {
   "cell_type": "code",
   "execution_count": 6,
   "metadata": {},
   "outputs": [],
   "source": [
    "def calibrator(r: float, vol: float, t: float, lam: float) -> tuple[float, float, float, float]:\n",
    "    sd = vol * (t ** 0.5)\n",
    "    u = math.exp(lam * sd)\n",
    "\n",
    "    dd = (sd/(4 * lam)) * (2*r/(vol*vol) - 1)\n",
    "    pm = 1 - 1/(lam*lam)\n",
    "    pu = (1 - pm)/2 + dd\n",
    "    pd = (1 - pm)/2 - dd\n",
    "\n",
    "    return u, pu, pm, pd"
   ]
  },
  {
   "cell_type": "code",
   "execution_count": 25,
   "metadata": {
    "collapsed": false,
    "jupyter": {
     "outputs_hidden": false
    },
    "pycharm": {
     "name": "#%%\n"
    }
   },
   "outputs": [],
   "source": [
    "def trinomialPricerAnchor(spot_price: float,\n",
    "                          option: Option,\n",
    "                          risk_free_rate: float,\n",
    "                          dividend_yield: float,\n",
    "                          volatility: float,\n",
    "                          time_to_maturity_in_years: float,\n",
    "                          lambda0: float = 3**0.5,\n",
    "                          anchor: Optional[float] = None,\n",
    "                          num_steps: int = 100) -> PriceType:\n",
    "\n",
    "    t = time_to_maturity_in_years / num_steps\n",
    "    sd = volatility * (t ** 0.5)\n",
    "    S = spot_price\n",
    "\n",
    "    lam = compute_lambda(anchor or S, S, sd, num_steps, lambda0)\n",
    "\n",
    "    r = risk_free_rate\n",
    "    u, pu, pm, pd = calibrator(r - dividend_yield, volatility, t, lam)\n",
    "\n",
    "    value = [option.payoff((u ** (num_steps - i)) * S) for i in range(2*num_steps + 1)]\n",
    "\n",
    "    discount_factor = math.exp(-r*t)\n",
    "    for i in range(num_steps - 1, -1, -1):\n",
    "        for j in range(2*i + 1):\n",
    "            current_time_to_maturity = time_to_maturity_in_years - i*t\n",
    "\n",
    "            current_payoff = option.payoff((u ** (i - j)) * S, current_time_to_maturity)\n",
    "            expected_payoff_upon_continuation = discount_factor * (pu*value[j] + pm*value[j + 1] + pd*value[j + 2])\n",
    "\n",
    "            value[j] = max(current_payoff, expected_payoff_upon_continuation)\n",
    "\n",
    "    return value[0]"
   ]
  },
  {
   "cell_type": "markdown",
   "metadata": {
    "collapsed": false,
    "jupyter": {
     "outputs_hidden": false
    },
    "pycharm": {
     "name": "#%% md\n"
    }
   },
   "source": [
    "Plot the pricing errors of this trinomial tree pricer with the market and strike below, for number of tree steps from 10 to 300 (similar to our binomial tree test cases).\n",
    "Use a European Call option and a Binary Call option as test trades."
   ]
  },
  {
   "cell_type": "code",
   "execution_count": 8,
   "metadata": {
    "collapsed": false,
    "jupyter": {
     "outputs_hidden": false
    },
    "pycharm": {
     "name": "#%%\n"
    }
   },
   "outputs": [],
   "source": [
    "K = 105\n",
    "S, r, q, vol, t = 100, 0.01, 0, 0.2, 1"
   ]
  },
  {
   "cell_type": "code",
   "execution_count": null,
   "metadata": {
    "collapsed": false,
    "jupyter": {
     "outputs_hidden": false
    },
    "pycharm": {
     "name": "#%%\n"
    }
   },
   "outputs": [],
   "source": [
    "import numpy as np\n",
    "import matplotlib.pyplot as plt\n",
    "\n",
    "\n",
    "def plot(step_range, lines, true_value, title):\n",
    "    for line, label in lines:\n",
    "        plt.plot(step_range, np.abs(line - true_value), label=label)\n",
    "\n",
    "    plt.yscale('log')\n",
    "    plt.xlabel(\"num_steps\")\n",
    "    plt.ylabel(\"price diff with BS\")\n",
    "    plt.title(title)\n",
    "    plt.legend()\n",
    "    plt.show()\n",
    "\n",
    "\n",
    "for option in [\n",
    "    EuropeanOption(option_type=OptionType.CALL, strike_price=K),\n",
    "    EuropeanBinaryOption(option_type=OptionType.CALL, strike_price=K),\n",
    "]:\n",
    "    step_range = range(10, 301)\n",
    "    bs_pri = bsPricer(S, option, r, q, vol, t)\n",
    "    bin_pri = np.array([binomialPricer(S, option, r, q, vol, t, num_steps=num_steps) for num_steps in step_range])\n",
    "    tri_pri_l1 = np.array([trinomialPricerAnchor(S, option, r, q, vol, t, 1, None, num_steps) for num_steps in step_range])\n",
    "    tri_pri_l14 = np.array([trinomialPricerAnchor(S, option, r, q, vol, t, 2**0.5, None, num_steps) for num_steps in step_range])\n",
    "    tri_pri_l17 = np.array([trinomialPricerAnchor(S, option, r, q, vol, t, 3**0.5, None, num_steps) for num_steps in step_range])\n",
    "    tri_pri_with_anchor = np.array([trinomialPricerAnchor(S, option, r, q, vol, t, anchor=K, num_steps=num_steps) for num_steps in step_range])\n",
    "    plot(\n",
    "        step_range,\n",
    "        [(bin_pri, \"bin\"),\n",
    "         (tri_pri_l1, \"tri_lam_l1\"),\n",
    "         (tri_pri_l14, \"tri_lam_l14\"),\n",
    "         (tri_pri_l17, \"tri_lam_l17\"),\n",
    "         (tri_pri_with_anchor, \"tri_anc\")],\n",
    "        bs_pri,\n",
    "        f\"{type(option)}; S = {S}; K = {K}\"\n",
    "    )"
   ]
  },
  {
   "cell_type": "markdown",
   "metadata": {},
   "source": [
    "The difference is attributed to the parameter $\\lambda$. EuropeanBinaryOption has a fixed payoff of 100."
   ]
  },
  {
   "cell_type": "markdown",
   "metadata": {
    "collapsed": false,
    "jupyter": {
     "outputs_hidden": false
    },
    "pycharm": {
     "name": "#%% md\n"
    }
   },
   "source": [
    "### 2. Strike from Delta\n",
    "\n",
    "Assuming forward delta convention, implement below function ```strikeFromdelta``` that calculates the strike from a given delta.\n",
    "You may use the ```fwdDelta``` function below."
   ]
  },
  {
   "cell_type": "markdown",
   "metadata": {},
   "source": [
    "Forward delta is given by $$\\Delta_{C} = N(d_+); \\Delta_{P} = -N(-d_+) = N(d_+) - 1$$ where \n",
    "$$d_+ = \\frac{ln(F/K) + \\frac{1}{2}sd^2}{sd}, sd = \\sigma\\sqrt{T}$$\n",
    "\n",
    "In fact, K can be computed explicitly:"
   ]
  },
  {
   "cell_type": "code",
   "execution_count": 10,
   "metadata": {
    "pycharm": {
     "is_executing": false,
     "name": "#%%\n"
    }
   },
   "outputs": [],
   "source": [
    "def strikeFromDeltaExplicit(S, r, q, T, vol, delta, option_type):\n",
    "    assert option_type in [OptionType.CALL, OptionType.PUT]\n",
    "\n",
    "    if delta < 0:\n",
    "        delta = -delta\n",
    "\n",
    "    F = S * math.exp((r - q) * T)\n",
    "    sd = vol * (T ** 0.5)\n",
    "    d1 = norm.ppf(delta if option_type == OptionType.CALL else 1 - delta)\n",
    "\n",
    "    return F / math.exp((d1 - sd/2) * sd)"
   ]
  },
  {
   "cell_type": "markdown",
   "metadata": {},
   "source": [
    "Alternatively, `x = K` is the root of the equation `fwdDelta(x, ...) - given_delta = 0`. A basic bisection routine, `scipy.optimize.bisect`, is used to find the root but any other algorithm works too."
   ]
  },
  {
   "cell_type": "code",
   "execution_count": 11,
   "metadata": {
    "pycharm": {
     "is_executing": false,
     "name": "#%%\n"
    }
   },
   "outputs": [],
   "source": [
    "from scipy import optimize\n",
    "\n",
    "\n",
    "def fwdDelta(fwd, sd, strike, option_type):\n",
    "    # NB: Returns |delta|\n",
    "    assert option_type in [OptionType.CALL, OptionType.PUT]\n",
    "\n",
    "    d1 = math.log(fwd/strike) / sd + sd / 2\n",
    "    return norm.cdf(d1) if option_type == OptionType.CALL else 1 - norm.cdf(d1)\n",
    "\n",
    "\n",
    "def strikeFromDeltaRootFind(S, r, q, T, vol, delta, option_type):\n",
    "    if delta < 0:\n",
    "        delta = -delta\n",
    "\n",
    "    F = S * math.exp((r - q) * T)\n",
    "    sd = vol * (T ** 0.5)\n",
    "    return optimize.bisect(lambda K: fwdDelta(F, sd, K, option_type) - delta, 1, F*F)"
   ]
  },
  {
   "cell_type": "markdown",
   "metadata": {},
   "source": [
    "Do the 2 functions agree on the strike? Does the computed strike have forward delta that is same as the given delta?"
   ]
  },
  {
   "cell_type": "code",
   "execution_count": 12,
   "metadata": {},
   "outputs": [],
   "source": [
    "S, r, q, t, vol = 100, 0.1, 0, 1, 0.2\n",
    "F, sd = S * math.exp((r - q) * t), vol * (t ** 0.5)\n",
    "\n",
    "N = 100\n",
    "for d in range(1, N):\n",
    "    delta = d/N\n",
    "    K1C = strikeFromDeltaExplicit(S, r, q, t, vol,  delta, OptionType.CALL)\n",
    "    K2C = strikeFromDeltaRootFind(S, r, q, t, vol,  delta, OptionType.CALL)\n",
    "    assert is_close(K1C, K2C)\n",
    "\n",
    "    K1P = strikeFromDeltaExplicit(S, r, q, t, vol, -delta, OptionType.PUT)\n",
    "    K2P = strikeFromDeltaRootFind(S, r, q, t, vol, -delta, OptionType.PUT)\n",
    "    assert is_close(K1P, K2P)\n",
    "\n",
    "    deltaC = fwdDelta(F, sd, K1C, OptionType.CALL)\n",
    "    assert is_close(deltaC, delta)\n",
    "\n",
    "    deltaP = fwdDelta(F, sd, K1P, OptionType.PUT)\n",
    "    assert is_close(deltaP, delta)"
   ]
  },
  {
   "cell_type": "code",
   "execution_count": 13,
   "metadata": {
    "pycharm": {
     "is_executing": false,
     "name": "#%%\n"
    }
   },
   "outputs": [],
   "source": [
    "def strikeFromDelta(S, r, q, T, vol, delta, option_type):\n",
    "    return strikeFromDeltaExplicit(S, r, q, T, vol, delta, option_type)"
   ]
  },
  {
   "cell_type": "markdown",
   "metadata": {
    "collapsed": false,
    "jupyter": {
     "outputs_hidden": false
    },
    "pycharm": {
     "name": "#%% md\n"
    }
   },
   "source": [
    "### 3. Smile from Marks\n",
    "\n",
    "Implement ```smilefromMarks``` function below, it take the time to maturity $T$, current spot price $S$, risk free and dividend rate $r$ and $q$,\n",
    "ATM volatility, BF25, RR25, BF10, RR10 quotes, returns a CubicSpline interpolated smile for this pillar. We assume ATM forward convention. \n",
    "You may use the Smile class provided below.   "
   ]
  },
  {
   "cell_type": "code",
   "execution_count": 14,
   "metadata": {
    "jupyter": {
     "source_hidden": true
    },
    "pycharm": {
     "name": "#%%\n"
    }
   },
   "outputs": [],
   "source": [
    "from scipy.interpolate import CubicSpline\n",
    "\n",
    "\n",
    "class Smile:\n",
    "    def __init__(self, strikes, vols):\n",
    "        # add additional point on the right to avoid arbitrage\n",
    "        self.strikes = strikes + [1.1*strikes[-1] - 0.1*strikes[-2]]\n",
    "        self.vols = vols + [vols[-1] + (vols[-1]-vols[-2])/10]\n",
    "        self.cs = CubicSpline(strikes, vols, bc_type=((1, 0.0), (1, 0.0)), extrapolate=True)\n",
    "\n",
    "    def Vol(self, k):\n",
    "        # scipy cubicspline bc_type is confusing, extrapolate by ourselves\n",
    "        if k < self.strikes[0]:\n",
    "            return self.vols[0]\n",
    "        if k > self.strikes[-1]:\n",
    "            return self.vols[-1]\n",
    "        return self.cs(k)"
   ]
  },
  {
   "cell_type": "markdown",
   "metadata": {},
   "source": [
    "Smile strangle, BF, and Risk Reversal, RR are given by the following equations.\n",
    "\n",
    "$$\n",
    "\\begin{align}\n",
    "BF_{\\Delta} &= \\frac{1}{2}(\\sigma_{\\Delta_{C}} + \\sigma_{\\Delta_{P}}) - \\sigma_{ATM} \\\\\n",
    "RR_{\\Delta} &= \\sigma_{\\Delta_{C}} - \\sigma_{\\Delta_{P}}\n",
    "\\end{align}\n",
    "$$\n",
    "\n",
    "Solving for $\\sigma_{\\Delta_C}$ and $\\sigma_{\\Delta_P}$,\n",
    "\n",
    "$$\n",
    "\\begin{align}\n",
    "\\sigma_{\\Delta_{C}} &= \\sigma_{ATM} + BF_{\\Delta} + \\frac{1}{2}RR_{\\Delta} \\\\\n",
    "\\sigma_{\\Delta_{P}} &= \\sigma_{ATM} + BF_{\\Delta} - \\frac{1}{2}RR_{\\Delta} \\\\\n",
    "\\end{align}\n",
    "$$\n",
    "\n",
    "Compute strike, K, from above $(\\Delta, \\sigma_{\\Delta})$ pairs. Finally, interpolate using `CubicSpline` to get the volatility smile."
   ]
  },
  {
   "cell_type": "code",
   "execution_count": 15,
   "metadata": {
    "pycharm": {
     "name": "#%%\n"
    }
   },
   "outputs": [],
   "source": [
    "def smileFromMarks(T, S, r, q, atmvol, bf25, rr25, bf10, rr10):\n",
    "    call_vol10 = atmvol + bf10 + rr10/2\n",
    "    CK10 = strikeFromDelta(S, r, q, T, call_vol10, 0.1, OptionType.CALL)\n",
    "\n",
    "    call_vol25 = atmvol + bf25 + rr25/2\n",
    "    CK25 = strikeFromDelta(S, r, q, T, call_vol25, 0.25, OptionType.CALL)\n",
    "\n",
    "    put_vol10 = atmvol + bf10 - rr10/2\n",
    "    PK10 = strikeFromDelta(S, r, q, T, put_vol10, -0.10, OptionType.PUT)\n",
    "\n",
    "    put_vol25 = atmvol + bf25 - rr25/2\n",
    "    PK25 = strikeFromDelta(S, r, q, T, put_vol25, -0.25, OptionType.PUT)\n",
    "\n",
    "    K_atm = F = S * math.exp((r - q) * T)\n",
    "    strikes = [PK10, PK25, K_atm, CK25, CK10]\n",
    "    vols = [put_vol10, put_vol25, atmvol, call_vol25, call_vol10]\n",
    "\n",
    "    return Smile(strikes, vols)"
   ]
  },
  {
   "cell_type": "markdown",
   "metadata": {
    "collapsed": false,
    "jupyter": {
     "outputs_hidden": false
    },
    "pycharm": {
     "name": "#%% md\n"
    }
   },
   "source": [
    "With ```smileFromMarks```, we can prepare our implied volatility surface from input marks."
   ]
  },
  {
   "cell_type": "code",
   "execution_count": 16,
   "metadata": {
    "jupyter": {
     "source_hidden": true
    },
    "pycharm": {
     "name": "#%%\n"
    }
   },
   "outputs": [],
   "source": [
    "import bisect\n",
    "\n",
    "\n",
    "class ImpliedVol:\n",
    "    def __init__(self, ts, smiles):\n",
    "        self.ts = ts\n",
    "        self.smiles = smiles\n",
    "    # linear interpolation in variance, along the strike line\n",
    "    def Vol(self, t, k):\n",
    "        # locate the interval t is in\n",
    "        pos = bisect.bisect_left(self.ts, t)\n",
    "        # if t is on or in front of first pillar,\n",
    "        if pos == 0:\n",
    "            return self.smiles[0].Vol(k)\n",
    "        if pos >= len(self.ts):\n",
    "            return self.smiles[-1].Vol(k)\n",
    "\n",
    "        prevVol, prevT = self.smiles[pos-1].Vol(k), self.ts[pos-1]\n",
    "        nextVol, nextT = self.smiles[pos].Vol(k), self.ts[pos]\n",
    "        w = (nextT - t) / (nextT - prevT)\n",
    "        prevVar = prevVol * prevVol * prevT\n",
    "        nextVar = nextVol * nextVol * nextT\n",
    "        return math.sqrt((w * prevVar + (1-w) * nextVar)/t)\n",
    "    def dVoldK(self, t, k):\n",
    "        return (self.Vol(t, k+0.01) - self.Vol(t, k-0.01)) / 0.02\n",
    "    def dVoldT(self, t, k):\n",
    "        return (self.Vol(t+0.005, k) - self.Vol(t, k)) / 0.005\n",
    "    def dVol2dK2(self, t, k):\n",
    "        return (self.Vol(t, k+0.01) + self.Vol(t, k-0.01) - 2*self.Vol(t, k)) / 0.0001"
   ]
  },
  {
   "cell_type": "markdown",
   "metadata": {
    "collapsed": false,
    "jupyter": {
     "outputs_hidden": false
    },
    "pycharm": {
     "name": "#%% md\n"
    }
   },
   "source": [
    "Plot the test implied volatility surface using below test functions."
   ]
  },
  {
   "cell_type": "code",
   "execution_count": 17,
   "metadata": {
    "pycharm": {
     "name": "#%%\n"
    }
   },
   "outputs": [],
   "source": [
    "def createTestImpliedVol(S, r, q):\n",
    "    pillars = [0.02, 0.04, 0.06, 0.08, 0.16, 0.25, 0.75, 1.0, 1.5, 2, 3, 5] # in year\n",
    "    atmvols = [0.155, 0.1395, 0.1304, 0.1280, 0.1230, 0.1230, 0.1265, 0.1290, 0.1313, 0.1318, 0.1313, 0.1305, 0.1295]\n",
    "    bf25s = [0.0016, 0.0016, 0.0021, 0.0028, 0.0034, 0.0043, 0.0055, 0.0058, 0.0060, 0.0055, 0.0054, 0.0050, 0.0045, 0.0043]\n",
    "    rr25s = [-0.0065, -0.0110, -0.0143, -0.0180, -0.0238, -0.0288, -0.0331, -0.0344, -0.0349, -0.0340, -0.0335, -0.0330, -0.0330]\n",
    "    bf10s = [0.0050, 0.0050, 0.0067, 0.0088, 0.0111, 0.0144, 0.0190, 0.0201, 0.0204, 0.0190, 0.0186, 0.0172, 0.0155, 0.0148]\n",
    "    rr10s = [-0.0111, -0.0187, -0.0248, -0.0315, -0.0439, -0.0518, -0.0627, -0.0652, -0.0662, -0.0646, -0.0636, -0.0627, -0.0627]\n",
    "    smiles = [smileFromMarks(pillars[i], S, r, q, atmvols[i], bf25s[i], rr25s[i], bf10s[i], rr10s[i]) for i in range(len(pillars))]\n",
    "    return ImpliedVol(pillars, smiles)\n",
    "\n",
    "def plotTestImpliedVolSurface():\n",
    "    S, r, q = 1.25805, 0.01, 0.003\n",
    "    iv = createTestImpliedVol(S, r, q)\n",
    "    tStart, tEnd = 0.02, 0.5\n",
    "    ts = np.arange(tStart, tEnd, 0.1)\n",
    "    fwdEnd = S*math.exp((r-q)*tEnd)\n",
    "    kmin = strikeFromDelta(S, r, q, tEnd, iv.Vol(tEnd, fwdEnd), 0.05, OptionType.PUT)\n",
    "    kmax = strikeFromDelta(S, r, q, tEnd, iv.Vol(tEnd, fwdEnd), 0.05, OptionType.CALL)\n",
    "    ks = np.arange(kmin, kmax, 0.01)\n",
    "\n",
    "    vs = np.ndarray((len(ts), len(ks)))\n",
    "    for i in range(len(ts)):\n",
    "        for j in range(len(ks)):\n",
    "            vs[i, j] = iv.Vol(ts[i], ks[j])\n",
    "    hf = plt.figure()\n",
    "    ha = hf.add_subplot(111, projection='3d')\n",
    "    X, Y = np.meshgrid(ks, ts)\n",
    "    ha.plot_surface(X, Y, vs)\n",
    "    plt.show()"
   ]
  },
  {
   "cell_type": "code",
   "execution_count": 18,
   "metadata": {
    "collapsed": false,
    "jupyter": {
     "outputs_hidden": false
    },
    "pycharm": {
     "name": "#%%\n"
    }
   },
   "outputs": [
    {
     "data": {
      "image/png": "[encoded data removed]",
      "text/plain": [
       "<Figure size 640x480 with 1 Axes>"
      ]
     },
     "metadata": {},
     "output_type": "display_data"
    }
   ],
   "source": [
    "plotTestImpliedVolSurface()"
   ]
  }
 ],
 "metadata": {
  "kernelspec": {
   "display_name": "Python 3 (ipykernel)",
   "language": "python",
   "name": "python3"
  },
  "language_info": {
   "codemirror_mode": {
    "name": "ipython",
    "version": 3
   },
   "file_extension": ".py",
   "mimetype": "text/x-python",
   "name": "python",
   "nbconvert_exporter": "python",
   "pygments_lexer": "ipython3",
   "version": "3.12.6"
  },
  "pycharm": {
   "stem_cell": {
    "cell_type": "raw",
    "metadata": {
     "collapsed": false
    },
    "source": []
   }
  }
 },
 "nbformat": 4,
 "nbformat_minor": 4
}
